{
 "cells": [
  {
   "cell_type": "code",
   "execution_count": 39,
   "metadata": {},
   "outputs": [],
   "source": [
    "count = 0\n",
    "line1 = []\n",
    "intro1 = ''\n",
    "intro2 = ''\n",
    "\n",
    "r1 = open('cubic-cwnd.log', 'r')\n",
    "r2 = open('newreno-cwnd.log', 'r')\n",
    "r3 = open('cubic-ssthresh.log', 'r')\n",
    "r4 = open('newreno-ssthresh.log', 'r')\n",
    "w1 = open('cwnd_compare', 'w')\n",
    "w2 = open('ssthresh_compare', 'w')\n",
    "\n",
    "intro1 = \"set title 'CWND of Cubic and Newreno'\\nset xlabel 'Time (s)'\\nset ylabel 'CWND'\\nplot '-' title 'Cubic' with lines, '-' title 'Newreno' with lines\\n\"\n",
    "intro2 = \"set title 'SSTHRESH of Cubic and Newreno'\\nset xlabel 'Time (s)'\\nset ylabel 'SSTRESH'\\nplot '-' title 'Cubic' with lines, '-' title 'Newreno' with lines\\n\"\n",
    "\n",
    "w1.write(intro1)\n",
    "\n",
    "while True:\n",
    "    count += 1\n",
    "    line1 = r1.readline()\n",
    "    if count > 4:\n",
    "        w1.write(line1)\n",
    "        if not line1: break\n",
    "            \n",
    "count = 0\n",
    "w1.write('e\\n')\n",
    "\n",
    "while True:\n",
    "    count += 1\n",
    "    line1 = r2.readline()\n",
    "    if count > 4:\n",
    "        w1.write(line1)\n",
    "        if not line1: break\n",
    "\n",
    "count = 0            \n",
    "w2.write(intro2)\n",
    "\n",
    "while True:\n",
    "    count += 1\n",
    "    line1 = r3.readline()\n",
    "    if count > 4:\n",
    "        w2.write(line1)\n",
    "        if not line1: break\n",
    "            \n",
    "count = 0\n",
    "w2.write('e\\n')\n",
    "\n",
    "while True:\n",
    "    count += 1\n",
    "    line1 = r4.readline()\n",
    "    if count > 4:\n",
    "        w2.write(line1)\n",
    "        if not line1: break            \n",
    "\n",
    "\n"
   ]
  },
  {
   "cell_type": "code",
   "execution_count": null,
   "metadata": {},
   "outputs": [],
   "source": []
  }
 ],
 "metadata": {
  "kernelspec": {
   "display_name": "Python 3",
   "language": "python",
   "name": "python3"
  },
  "language_info": {
   "codemirror_mode": {
    "name": "ipython",
    "version": 3
   },
   "file_extension": ".py",
   "mimetype": "text/x-python",
   "name": "python",
   "nbconvert_exporter": "python",
   "pygments_lexer": "ipython3",
   "version": "3.6.9"
  }
 },
 "nbformat": 4,
 "nbformat_minor": 4
}
